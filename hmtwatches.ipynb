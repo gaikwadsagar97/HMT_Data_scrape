{
  "nbformat": 4,
  "nbformat_minor": 0,
  "metadata": {
    "colab": {
      "provenance": []
    },
    "kernelspec": {
      "name": "python3",
      "display_name": "Python 3"
    },
    "language_info": {
      "name": "python"
    }
  },
  "cells": [
    {
      "cell_type": "code",
      "source": [
        "# !pip install -q selenium"
      ],
      "metadata": {
        "id": "CVwiiNDz6V17"
      },
      "execution_count": null,
      "outputs": []
    },
    {
      "cell_type": "code",
      "source": [
        "# !pip install sqlalchemy"
      ],
      "metadata": {
        "id": "hxTjtQFC89Gp"
      },
      "execution_count": null,
      "outputs": []
    },
    {
      "cell_type": "code",
      "source": [
        "# !pip install beautifulsoup4"
      ],
      "metadata": {
        "id": "ssn-sUEd-3tj"
      },
      "execution_count": null,
      "outputs": []
    },
    {
      "cell_type": "code",
      "source": [
        "# !apt-get update\n",
        "# !apt install chromium-chromedriver\n",
        "# !cp /usr/lib/chromium-browser/chromedriver /usr/bin\n",
        "# !pip install -q selenium"
      ],
      "metadata": {
        "collapsed": true,
        "id": "o34nqE_h6XAz"
      },
      "execution_count": null,
      "outputs": []
    },
    {
      "cell_type": "code",
      "source": [
        "from selenium import webdriver\n",
        "from selenium.webdriver.chrome.options import Options\n",
        "from bs4 import BeautifulSoup\n",
        "import time\n",
        "from selenium import webdriver\n",
        "from selenium.webdriver.chrome.options import Options\n",
        "from selenium.webdriver.common.by import By\n",
        "from selenium.webdriver.support.ui import WebDriverWait\n",
        "from selenium.webdriver.support import expected_conditions as EC\n",
        "from selenium.webdriver.support.ui import Select\n",
        "from selenium.common.exceptions import NoSuchElementException, TimeoutException\n",
        "import re\n",
        "from selenium.common.exceptions import (\n",
        "    TimeoutException,\n",
        "    NoSuchElementException,\n",
        "    ElementClickInterceptedException,\n",
        ")\n",
        "\n",
        "def setup_driver():\n",
        "  chrome_options = Options()\n",
        "  chrome_options.add_argument('--headless')\n",
        "  chrome_options.add_argument('--no-sandbox')\n",
        "  chrome_options.add_argument('--disable-dev-shm-usage')\n",
        "  return webdriver.Chrome(options=chrome_options)"
      ],
      "metadata": {
        "id": "tH40eVCT6XIn"
      },
      "execution_count": null,
      "outputs": []
    },
    {
      "cell_type": "code",
      "source": [
        "driver=setup_driver()\n",
        "from sqlalchemy import create_engine\n",
        "from sqlalchemy.engine.url import URL\n",
        "import psycopg2\n",
        "from sqlalchemy import create_engine, Column, Integer, Text, BigInteger, JSON\n",
        "from sqlalchemy.ext.declarative import declarative_base\n",
        "from sqlalchemy.orm import sessionmaker\n",
        "from sqlalchemy.dialects.postgresql import ARRAY\n",
        "\n"
      ],
      "metadata": {
        "id": "wY41PwzA6ycZ"
      },
      "execution_count": null,
      "outputs": []
    },
    {
      "cell_type": "code",
      "source": [
        "driver.get(\"https://www.hmtwatches.in/womens\")"
      ],
      "metadata": {
        "id": "6kvofhy762_-"
      },
      "execution_count": null,
      "outputs": []
    },
    {
      "cell_type": "code",
      "source": [
        "from selenium import webdriver\n",
        "from selenium.webdriver.common.by import By\n",
        "from selenium.webdriver.support.ui import WebDriverWait\n",
        "from selenium.webdriver.support import expected_conditions as EC\n",
        "from selenium.common.exceptions import TimeoutException, ElementClickInterceptedException\n",
        "import time\n",
        "\n",
        "def load_all_content(driver):\n",
        "    page_number = 1\n",
        "    while True:\n",
        "        try:\n",
        "            # Wait for the button to be present and visible\n",
        "            read_more_button = WebDriverWait(driver, 10).until(\n",
        "                EC.presence_of_element_located((By.ID, \"loadMoreBtnData\"))\n",
        "            )\n",
        "\n",
        "            # Scroll the button into view\n",
        "            driver.execute_script(\"arguments[0].scrollIntoView({behavior: 'smooth', block: 'center'});\", read_more_button)\n",
        "\n",
        "            # Wait a short moment for the scroll to complete\n",
        "            time.sleep(2)\n",
        "\n",
        "            # Try regular click first\n",
        "            try:\n",
        "                read_more_button.click()\n",
        "            except ElementClickInterceptedException:\n",
        "                # If regular click fails, try JavaScript click\n",
        "                driver.execute_script(\"arguments[0].click();\", read_more_button)\n",
        "\n",
        "            print(f\"Successfully loaded page {page_number}\")\n",
        "            page_number += 1\n",
        "\n",
        "            # Wait for the new content to load\n",
        "            time.sleep(5)\n",
        "\n",
        "        except TimeoutException:\n",
        "            print(\"No more 'Read More' button found. All content loaded.\")\n",
        "            break\n",
        "        except Exception as e:\n",
        "            print(f\"An error occurred: {str(e)}\")\n",
        "            break\n",
        "\n",
        "# Usage\n",
        "driver = setup_driver()\n",
        "driver.get(\"https://www.hmtwatches.in/womens\")\n",
        "\n",
        "# Load all content\n",
        "load_all_content(driver)"
      ],
      "metadata": {
        "id": "G-bYOttMqz05"
      },
      "execution_count": null,
      "outputs": []
    },
    {
      "cell_type": "code",
      "source": [
        "elements = driver.find_elements(By.CLASS_NAME, \"bc_p_item\")\n",
        "\n",
        "len(elements)"
      ],
      "metadata": {
        "collapsed": true,
        "id": "TC-v6dXVm7E9"
      },
      "execution_count": null,
      "outputs": []
    },
    {
      "cell_type": "code",
      "source": [
        "elements = driver.find_elements(By.CLASS_NAME, \"bc_p_item\")\n",
        "count=0\n",
        "link_list=[]\n",
        "for element in elements:\n",
        "  try:\n",
        "    anchor_tag = element.find_element(By.TAG_NAME, \"a\")\n",
        "    link = anchor_tag.get_attribute(\"href\")\n",
        "    link_list.append(link)\n",
        "\n",
        "  except NoSuchElementException:\n",
        "    print(\"Anchor tag not found in this element.\")"
      ],
      "metadata": {
        "id": "g751ITYU9a10"
      },
      "execution_count": null,
      "outputs": []
    },
    {
      "cell_type": "code",
      "source": [
        "len(link_list)"
      ],
      "metadata": {
        "colab": {
          "base_uri": "https://localhost:8080/"
        },
        "id": "Z4cstLp1s9Fj",
        "outputId": "50e2a0ee-a66a-445e-bb83-ba2d0c9e08e9"
      },
      "execution_count": null,
      "outputs": [
        {
          "output_type": "execute_result",
          "data": {
            "text/plain": [
              "97"
            ]
          },
          "metadata": {},
          "execution_count": 11
        }
      ]
    },
    {
      "cell_type": "code",
      "source": [
        "link1=link_list[0]"
      ],
      "metadata": {
        "id": "hARmYgjE72hF"
      },
      "execution_count": null,
      "outputs": []
    },
    {
      "cell_type": "code",
      "source": [
        "more_info = {}\n",
        "element = soup.find(id=\"lD\")\n",
        "if element:\n",
        "    details = element.text.strip().split('\\n')\n",
        "    for detail in details:\n",
        "        if \":\" in detail:\n",
        "            key, value = detail.split(\":\", 1)\n",
        "            more_info[key.strip()] = value.strip()"
      ],
      "metadata": {
        "id": "wk7_ZiVI7BB2"
      },
      "execution_count": null,
      "outputs": []
    },
    {
      "cell_type": "code",
      "source": [
        "from bs4 import BeautifulSoup\n",
        "from selenium.common.exceptions import NoSuchElementException, TimeoutException\n",
        "from selenium.webdriver.common.by import By\n",
        "from sqlalchemy import create_engine, Column, Integer, BigInteger, Text, JSON, ARRAY\n",
        "from sqlalchemy.orm import sessionmaker, declarative_base\n",
        "from sqlalchemy.engine.url import URL\n",
        "\n",
        "# PostgreSQL database configuration\n",
        " = {\n",
        "    'drivername': '\n",
        "    'username': '\n",
        "    'password': '\n",
        "    'host': '\n",
        "    'port': \n",
        "    'database': \n",
        "}\n",
        "\n",
        "def create_db_connection():\n",
        "    try:\n",
        "        # Create URL object using SQLAlchemy's URL.create\n",
        "        url = URL.create(**)\n",
        "\n",
        "        # Create engine with the URL object\n",
        "        engine = create_engine(url)\n",
        "\n",
        "        # Test the connection\n",
        "        with engine.connect() as connection:\n",
        "            print(\"Successfully connected to the database using SQLAlchemy!\")\n",
        "        return engine\n",
        "\n",
        "    except Exception as e:\n",
        "        print(f\"Error connecting to the database: {e}\")\n",
        "        raise\n",
        "\n",
        "# Create base class for declarative models\n",
        "Base = declarative_base()\n",
        "\n",
        "# Define Product model\n",
        "class Product(Base):\n",
        "    __tablename__ = 'product'\n",
        "\n",
        "    id = Column(Integer, primary_key=True)\n",
        "    imageurls = Column(ARRAY(Text))\n",
        "    product_title = Column(Text)\n",
        "    review = Column(BigInteger)\n",
        "    product_description = Column(Text)\n",
        "    price = Column(BigInteger)\n",
        "    description = Column(Text)\n",
        "    product_detail_dict = Column(JSON)\n",
        "    more_info = Column(JSON)\n",
        "\n",
        "# Initialize database connection\n",
        "try:\n",
        "    engine = create_db_connection()\n",
        "    Session = sessionmaker(bind=engine)\n",
        "    session = Session()\n",
        "except Exception as e:\n",
        "    print(f\"Failed to establish database connection: {e}\")\n",
        "    exit()\n",
        "\n",
        "# Process each link in the list\n",
        "for link in link_list:\n",
        "    try:\n",
        "        driver.get(link)\n",
        "        html = driver.page_source\n",
        "        soup = BeautifulSoup(html, \"html.parser\")\n",
        "\n",
        "        # Extract product details\n",
        "        product_title = soup.find('h3', class_='product-title').text.strip()\n",
        "        review_no = soup.find('span', class_='review-no').text.strip()\n",
        "        review = int(review_no.split(\" \")[0])\n",
        "        product_description = soup.find('p', class_='product-description').text.strip()\n",
        "        product_price = soup.find('h4', class_='price discountPrice').text.strip()\n",
        "        price = int(product_price.split(\" \")[-1])\n",
        "\n",
        "        # Extract image URLs\n",
        "        imageurls = []\n",
        "        try:\n",
        "            ul_element = driver.find_element(By.ID, \"glasscase\")\n",
        "            li_elements = ul_element.find_elements(By.TAG_NAME, \"li\")\n",
        "            for li_element in li_elements:\n",
        "                try:\n",
        "                    img_tag = li_element.find_element(By.TAG_NAME, \"img\")\n",
        "                    src = img_tag.get_attribute(\"src\")\n",
        "                    imageurls.append(src)\n",
        "                except NoSuchElementException:\n",
        "                    print(\"Img tag not found in this li element.\")\n",
        "        except NoSuchElementException:\n",
        "            print(\"Element with ID 'glasscase' not found.\")\n",
        "\n",
        "        # Extract additional details\n",
        "        description = soup.find(id=\"lA\").text.strip() if soup.find(id=\"lA\") else \"\"\n",
        "\n",
        "        product_detail_dict = {}\n",
        "        element = soup.find(id=\"lB\")\n",
        "        if element:\n",
        "            product_details = element.text.strip()\n",
        "            each_detail_list = [e.strip() for e in product_details.split(\"\\n\\n\")]\n",
        "            for each_detail in each_detail_list:\n",
        "                each_detail_split = [e.strip() for e in each_detail.split(\"\\n\")]\n",
        "                if len(each_detail_split) == 2:\n",
        "                    product_detail_dict[each_detail_split[0]] = each_detail_split[1]\n",
        "\n",
        "        more_info = {}\n",
        "        element = soup.find(id=\"lD\")\n",
        "        if element:\n",
        "            details = element.text.strip().split('\\n')\n",
        "            for detail in details:\n",
        "                if \":\" in detail:\n",
        "                    key, value = detail.split(\":\", 1)\n",
        "                    more_info[key.strip()] = value.strip()\n",
        "\n",
        "        # Create and insert product record\n",
        "        sample_product = Product(\n",
        "            imageurls=imageurls,\n",
        "            product_title=product_title,\n",
        "            review=review,\n",
        "            product_description=product_description,\n",
        "            description=description,\n",
        "            price=price,\n",
        "            product_detail_dict=product_detail_dict,\n",
        "            more_info=more_info\n",
        "        )\n",
        "\n",
        "        try:\n",
        "            session.add(sample_product)\n",
        "            session.commit()\n",
        "            print(f\"Successfully inserted product with ID: {sample_product.id}\")\n",
        "        except Exception as e:\n",
        "            session.rollback()\n",
        "            print(f\"Error inserting product: {e}\")\n",
        "\n",
        "    except TimeoutException:\n",
        "        print(f\"Timeout occurred while loading {link}\")\n",
        "    except Exception as e:\n",
        "        print(f\"An error occurred while processing {link}: {e}\")\n",
        "\n"
      ],
      "metadata": {
        "id": "II3dRzms-VuQ"
      },
      "execution_count": null,
      "outputs": []
    },
    {
      "cell_type": "code",
      "source": [
        "# product_title = soup.find('h3', class_='product-title')\n",
        "# product_title=product_title.text.strip()"
      ],
      "metadata": {
        "id": "aCLfHWT-02FZ"
      },
      "execution_count": null,
      "outputs": []
    },
    {
      "cell_type": "code",
      "source": [
        "# review_no = soup.find('span', class_='review-no')\n",
        "# review_no=review_no.text.strip()\n",
        "# review=int(review_no.split(\" \")[0])"
      ],
      "metadata": {
        "id": "az2BDf3j1TcG"
      },
      "execution_count": null,
      "outputs": []
    },
    {
      "cell_type": "code",
      "source": [
        "# product_description = soup.find('p', class_='product-description')\n",
        "# product_description=product_description.text.strip()"
      ],
      "metadata": {
        "id": "UHlkxaHz1HGv"
      },
      "execution_count": null,
      "outputs": []
    },
    {
      "cell_type": "code",
      "source": [
        "# product_price = soup.find('h4', class_='price discountPrice')\n",
        "# product_price=product_price.text.strip()\n",
        "# price=int(product_price.split(\" \")[-1])"
      ],
      "metadata": {
        "id": "XuwsKO6W-Voi"
      },
      "execution_count": null,
      "outputs": []
    },
    {
      "cell_type": "code",
      "source": [
        "# ul_element = driver.find_element(By.ID, \"glasscase\")\n",
        "# li_elements = ul_element.find_elements(By.TAG_NAME, \"li\")\n",
        "# # Now you have a list of all the <li> elements within the <ul>\n",
        "# for li_element in li_elements:\n",
        "#   imageurls = []\n",
        "#   for li_element in li_elements:\n",
        "#       try:\n",
        "#           img_tag = li_element.find_element(By.TAG_NAME, \"img\")\n",
        "#           src = img_tag.get_attribute(\"src\")\n",
        "#           imageurls.append(src)\n",
        "#       except NoSuchElementException:\n",
        "#           print(\"Img tag not found in this li element.\")\n",
        "#   imageurls"
      ],
      "metadata": {
        "id": "WrSfr1FZtqP4"
      },
      "execution_count": null,
      "outputs": []
    },
    {
      "cell_type": "code",
      "source": [
        "\n",
        "# element = soup.find(id=\"lA\")\n",
        "# if element:\n",
        "#     description=element.text.strip()\n",
        "# else:\n",
        "#   description=\"\"\n",
        "#   print(\"Element with id 'lA' not found.\")"
      ],
      "metadata": {
        "colab": {
          "base_uri": "https://localhost:8080/",
          "height": 35
        },
        "id": "y5W2XK4sAPA5",
        "outputId": "531bba88-dabd-4558-c89d-3abeb9d18561"
      },
      "execution_count": null,
      "outputs": [
        {
          "output_type": "execute_result",
          "data": {
            "text/plain": [
              "'HMT Sangam MGGG 03 PRM White'"
            ],
            "application/vnd.google.colaboratory.intrinsic+json": {
              "type": "string"
            }
          },
          "metadata": {},
          "execution_count": 243
        }
      ]
    },
    {
      "cell_type": "code",
      "source": [
        "# # prompt: get element with id lA using soup\n",
        "# element = soup.find(id=\"lB\")\n",
        "# if element:\n",
        "#     product_details=element.text.strip()\n",
        "#     # print(product_details)\n",
        "#     product_detail_dict={}\n",
        "#     each_detail_list=product_details.split(\"\\n\\n\")\n",
        "#     each_detail_list=[e.strip(\"\\n\").strip() for e in each_detail_list]\n",
        "#     for each_detail in each_detail_list:\n",
        "#       each_detail_split=each_detail.split(\"\\n\")\n",
        "#       each_detail_split=[e.strip() for e in each_detail_split]\n",
        "#       if len(each_detail_split)==2:\n",
        "#         product_detail_dict[each_detail_split[0]]=each_detail_split[1]\n",
        "#     #Further processing of the element can be done here.\n",
        "#     #For example, to get its text:\n",
        "#     #print(element.text)\n",
        "# else:\n",
        "#   product_detail_dict={}\n",
        "#   print(\"Element with id 'lA' not found.\")"
      ],
      "metadata": {
        "id": "4YzVPJueBLcE"
      },
      "execution_count": null,
      "outputs": []
    },
    {
      "cell_type": "code",
      "source": [
        "# element = soup.find(id=\"lD\")\n",
        "# if element:\n",
        "#     more_info = {}\n",
        "#     details = element.text.strip().split('\\n')\n",
        "#     for detail in details:\n",
        "#         detail = detail.strip()\n",
        "#         if \":\" in detail:\n",
        "#           key, value = detail.split(\":\", 1)\n",
        "#           more_info[key.strip()] = value.strip()\n",
        "\n",
        "# else:\n",
        "#     more_info = {'': ''}\n",
        "#     print(\"Element with id 'lD' not found.\")\n",
        "# more_info"
      ],
      "metadata": {
        "colab": {
          "base_uri": "https://localhost:8080/"
        },
        "id": "eMUUf-CjHQat",
        "outputId": "17e03969-b699-4108-99b2-0fb1701503f3"
      },
      "execution_count": null,
      "outputs": [
        {
          "output_type": "execute_result",
          "data": {
            "text/plain": [
              "{'More Info': '',\n",
              " 'Manufactured and Packed By': 'HMT Limited, Auxiliary Business Division, Bengaluru -560013 Customer Care No : 080-28385491',\n",
              " 'Warranty Summary': '',\n",
              " 'Covered in Warranty': '1 Year on Movement, Battery and Plating',\n",
              " 'Not Covered in Warranty': 'Normal Wear and tear, Accidental damage due to negligence, unauthorized service'}"
            ]
          },
          "metadata": {},
          "execution_count": 219
        }
      ]
    },
    {
      "cell_type": "code",
      "source": [
        "\n",
        "# # PostgreSQL database configuration\n",
        "# DB_CONFIG = {\n",
        "#     'dbname': \n",
        "#     'user': \n",
        "#     'password': ,\n",
        "#     'host': '",
        "#     'port': \n",
        "# }"
      ],
      "metadata": {
        "id": "mm_XGJy0LY0Q"
      },
      "execution_count": null,
      "outputs": []
    },
    {
      "cell_type": "code",
      "source": [
       
      ],
      "metadata": {
        "colab": {
          "base_uri": "https://localhost:8080/"
        },
        "id": "huP-QJKC-TGk",
        "outputId": "e72f0862-33d2-4c6a-8689-e9b1926ae93d"
      },
      "execution_count": null,
      "outputs": [
        {
          "output_type": "stream",
          "name": "stdout",
          "text": [
            "Successfully connected to the database using SQLAlchemy!\n"
          ]
        }
      ]
    },
    {
      "cell_type": "code",
      "source": [
        "# from sqlalchemy import create_engine, Column, Integer, Text, BigInteger, JSON\n",
        "# from sqlalchemy.ext.declarative import declarative_base\n",
        "# from sqlalchemy.orm import sessionmaker\n",
        "# from sqlalchemy.dialects.postgresql import ARRAY\n",
        "\n",
        "# # Create base class for declarative models\n",
        "# Base = declarative_base()\n",
        "\n",
        "# # Define Product model\n",
        "# class Product(Base):\n",
        "#     __tablename__ = 'product'\n",
        "\n",
        "#     id = Column(Integer, primary_key=True)\n",
        "#     imageurls = Column(ARRAY(Text))\n",
        "#     product_title = Column(Text)\n",
        "#     review = Column(BigInteger)\n",
        "#     product_description = Column(Text)\n",
        "#     price = Column(BigInteger)\n",
        "#     description = Column(Text)\n",
        "#     product_detail_dict = Column(JSON)\n",
        "#     more_info = Column(JSON)\n",
        "\n",
        "# Session = sessionmaker(bind=engine)\n",
        "# session = Session()\n",
        "\n",
        "# # Create sample product record\n",
        "# sample_product = Product(\n",
        "#     imageurls=imageurls,\n",
        "#     product_title=product_title,\n",
        "#     review=review,\n",
        "#     product_description=product_description,\n",
        "#     description=description,\n",
        "#     price=price,\n",
        "#     product_detail_dict=product_detail_dict,\n",
        "#     more_info=more_info\n",
        "# )\n",
        "\n",
        "# # Insert the record\n",
        "# try:\n",
        "#     session.add(sample_product)\n",
        "#     session.commit()\n",
        "#     print(f\"Successfully inserted product with ID: {sample_product.id}\")\n",
        "# except Exception as e:\n",
        "#     session.rollback()\n",
        "#     print(f\"Error inserting product: {e}\")\n",
        "# finally:\n",
        "#     session.close()"
      ],
      "metadata": {
        "colab": {
          "base_uri": "https://localhost:8080/"
        },
        "id": "B5WfQ0bk_1Qb",
        "outputId": "af8bcc46-5898-4200-e048-cbc1fb25ea9f"
      },
      "execution_count": null,
      "outputs": [
        {
          "output_type": "stream",
          "name": "stderr",
          "text": [
            "<ipython-input-247-ec3874571868>:7: MovedIn20Warning: The ``declarative_base()`` function is now available as sqlalchemy.orm.declarative_base(). (deprecated since: 2.0) (Background on SQLAlchemy 2.0 at: https://sqlalche.me/e/b8d9)\n",
            "  Base = declarative_base()\n"
          ]
        },
        {
          "output_type": "stream",
          "name": "stdout",
          "text": [
            "Successfully inserted product with ID: 1\n"
          ]
        }
      ]
    },
    {
      "cell_type": "code",
      "source": [],
      "metadata": {
        "colab": {
          "base_uri": "https://localhost:8080/"
        },
        "id": "B7hi3Af5CwcQ",
        "outputId": "68675467-d5fa-41d8-f3ef-473894d99a95"
      },
      "execution_count": null,
      "outputs": [
        {
          "output_type": "stream",
          "name": "stdout",
          "text": [
            "Successfully connected to the database!\n",
            "All data deleted from the product table and ID index reset.\n",
            "Database connection closed.\n"
          ]
        }
      ]
    },
    {
      "cell_type": "code",
      "source": [
        "# prompt: get data of particular id using pyalchemy\n",
        "\n",
        "# Assuming you have the engine and Product model defined as in the previous code.\n",
        "\n",
        "from sqlalchemy.orm import sessionmaker\n",
        "\n",
        "Session = sessionmaker(bind=engine)\n",
        "session = Session()\n",
        "\n",
        "def get_product_by_id(product_id):\n",
        "  try:\n",
        "    product = session.query(Product).filter(Product.id == product_id).first()\n",
        "    if product:\n",
        "      return product\n",
        "    else:\n",
        "      print(f\"Product with ID {product_id} not found.\")\n",
        "      return None\n",
        "  except Exception as e:\n",
        "    print(f\"Error fetching product: {e}\")\n",
        "    return None\n",
        "  finally:\n",
        "    session.close()\n",
        "\n",
        "# Example usage:\n",
        "product_id_to_fetch = 1  # Replace with the actual ID you want to retrieve\n",
        "retrieved_product = get_product_by_id(product_id_to_fetch)\n",
        "\n",
        "if retrieved_product:\n",
        "    print(f\"Product Title: {retrieved_product.product_title}\")\n",
        "    print(f\"Product Price: {retrieved_product.price}\")\n",
        "    # Access other attributes as needed..."
      ],
      "metadata": {
        "colab": {
          "base_uri": "https://localhost:8080/"
        },
        "id": "80VdwMkaFmAd",
        "outputId": "c534e25e-c435-419d-f050-42a9ccd72435"
      },
      "execution_count": null,
      "outputs": [
        {
          "output_type": "stream",
          "name": "stdout",
          "text": [
            "Product Title: HMT Sangam MGGG 03 PRM White\n",
            "Product Price: 2033\n"
          ]
        }
      ]
    },
    {
      "cell_type": "code",
      "source": [
        "# prompt: ALTER TABLE product\n",
        "# ADD Gender VARCHAR(20);\n",
        "# give me code\n",
        "\n",
        "from sqlalchemy import text\n",
        "\n",
        "def add_gender_column(engine):\n",
        "    try:\n",
        "        with engine.connect() as connection:\n",
        "            # Use text() to execute raw SQL\n",
        "            connection.execute(text(\"ALTER TABLE product ADD Gender VARCHAR(20);\"))\n",
        "            print(\"Successfully added 'Gender' column to the 'product' table.\")\n",
        "    except Exception as e:\n",
        "        print(f\"Error adding 'Gender' column: {e}\")\n",
        "\n",
        "# Call the function with your database engine\n",
        "add_gender_column(engine)"
      ],
      "metadata": {
        "id": "7t-pF0c2IG4d"
      },
      "execution_count": null,
      "outputs": []
    }
  ]
}
